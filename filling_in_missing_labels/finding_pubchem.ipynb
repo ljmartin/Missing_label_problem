{
 "cells": [
  {
   "cell_type": "code",
   "execution_count": 3,
   "metadata": {},
   "outputs": [],
   "source": [
    "import numpy as np\n",
    "\n",
    "%matplotlib inline\n",
    "import matplotlib\n",
    "import matplotlib.pyplot as plt\n",
    "\n",
    "import pandas as pd\n",
    "from pprint import pprint\n",
    "\n",
    "import re\n",
    "\n",
    "from tqdm import tqdm_notebook\n",
    "\n",
    "import scipy\n",
    "from scipy import sparse\n",
    "from scipy import stats\n",
    "\n",
    "import pubchempy as pcp\n",
    "from chembl_webresource_client.new_client import new_client\n",
    "import json\n",
    "import requests\n",
    "\n",
    "import copy\n",
    "\n",
    "import rdkit\n",
    "from rdkit import Chem\n",
    "from rdkit.Chem import Draw\n",
    "from rdkit.Chem.Draw import IPythonConsole"
   ]
  },
  {
   "cell_type": "markdown",
   "metadata": {},
   "source": [
    "# Testing validity of predicted labels by PubChem assays\n",
    "\n",
    "Previously we showed how to use network-level data - the co-occurrence trends between ligands binding multiple labels - to predict new labels that help classifiers in predicting known labels. \n",
    "\n",
    "Here, we provide another line of evidence showing these newly predicted labels are accurate. We first make a matrix of predicted label probabilities, then filter out all previously known labels from ChEMBL, and then order all predicted from highest to lowest. We can then automatically scan through these predicted labels (which are not present in ChEMBL) and check PubChem to see if they have been tested experimentally. \n",
    "\n",
    "PubChem assay data is a bit messy so we use text processing to determine the assay result. This means fetching the names of the ligands, the names of the proteins, searching for the correct assay, then filtering for the assay result. \n",
    "\n",
    "We use the ChEMBL webresource client to find ligand/protein names, and pubchempy and the REST API to search for the assay data. \n",
    "\n",
    "Of the top 10,000 predicted labels, ~1,500 had some assay evidence available in PubChem. ~96% of these assays recorded that the ligand was active, indicating the predicted labels are accurate. \n"
   ]
  },
  {
   "cell_type": "markdown",
   "metadata": {},
   "source": [
    "First, load up the data:"
   ]
  },
  {
   "cell_type": "code",
   "execution_count": 5,
   "metadata": {},
   "outputs": [],
   "source": [
    "x = sparse.load_npz('../data/x_norm_sparse.npz')\n",
    "y = sparse.load_npz('../data/y.npz')\n",
    "\n",
    "x = np.array(x.todense())\n",
    "y = np.array(y.todense())\n",
    "allSmiles = pd.read_csv('../data/allSmiles.csv', header=None)\n",
    "targetNames = pd.read_csv('../data/targetNames.csv', header=None)\n",
    "\n",
    "ligandIDs = pd.read_csv('../data/allLigandIDs.csv', header=None)\n",
    "targetIDs = pd.read_csv('../data/target_IDs.csv', header=None)"
   ]
  },
  {
   "cell_type": "markdown",
   "metadata": {},
   "source": [
    "# Make the n by m matrix of predicted probabilities \n",
    "\n",
    "i.e. the bipartite label graph (n=num ligands, m=num targets). As before, this is then used to generate predicted label probabilities for missing labels. "
   ]
  },
  {
   "cell_type": "code",
   "execution_count": 6,
   "metadata": {},
   "outputs": [],
   "source": [
    "import itertools\n",
    "\n",
    "def makeCorrelations(y_in):\n",
    "    num_lines = len(y_in)\n",
    "    tot_instances = np.sum(y_in, axis=0)\n",
    "    L = np.zeros([y_in.shape[1], y_in.shape[1]])\n",
    "\n",
    "    for row in y_in:\n",
    "        if np.sum(row)>1:\n",
    "            for j,k in itertools.permutations(np.where(row==1)[0], 2):\n",
    "                L[j][k] += (1)/(tot_instances[k])\n",
    "                \n",
    "    return L\n",
    "\n",
    "L = makeCorrelations(y)"
   ]
  },
  {
   "cell_type": "code",
   "execution_count": 7,
   "metadata": {},
   "outputs": [],
   "source": [
    "from numba import jit #speeds this up a fair bit.\n",
    "\n",
    "@jit(nopython=True)\n",
    "def fill_in_estimates(probability_matrix, current_label_matrix, L):\n",
    "    L1 = 1-L\n",
    "    wheres = np.where(current_label_matrix==0)\n",
    "    for j,k in zip(wheres[0], wheres[1]):\n",
    "        probs = L1[k][current_label_matrix[j]==1]\n",
    "        probs2 = 1-np.prod(probs)\n",
    "        probability_matrix[j][k] = probs2\n",
    "    return probability_matrix\n",
    "\n",
    "probabilities_matrix = fill_in_estimates(np.array(y, dtype='float64'),\n",
    "                                    np.array(y, dtype='float64'),\n",
    "                                    L)"
   ]
  },
  {
   "cell_type": "markdown",
   "metadata": {},
   "source": [
    "Remove known labels, and sort the matrix in order of descending probabilities, returning the indices"
   ]
  },
  {
   "cell_type": "code",
   "execution_count": 9,
   "metadata": {
    "scrolled": true
   },
   "outputs": [
    {
     "name": "stdout",
     "output_type": "stream",
     "text": [
      "Should be a high number < 1:\n",
      "0.9996170904805652\n",
      "Should be a low number >= 0:\n",
      "0.0\n",
      "Whole arr:\n"
     ]
    },
    {
     "data": {
      "text/plain": [
       "array([[240710,    239],\n",
       "       [212925,    196],\n",
       "       [ 92753,    196],\n",
       "       ...,\n",
       "       [ 89775,    122],\n",
       "       [ 89775,    111],\n",
       "       [252408,    242]])"
      ]
     },
     "execution_count": 9,
     "metadata": {},
     "output_type": "execute_result"
    }
   ],
   "source": [
    "arr = copy.copy(probabilities_matrix)\n",
    "arr = arr - y\n",
    "arr_sorted = np.dstack(np.unravel_index(np.argsort(-arr.ravel()), (arr.shape[0], arr.shape[1])))[0]\n",
    "print('Should be a high number < 1:')\n",
    "print(probabilities_matrix[arr_sorted[0][0]][arr_sorted[0][1]])\n",
    "print('Should be a low number >= 0:')\n",
    "print(probabilities_matrix[arr_sorted[-1][0]][arr_sorted[-1][1]])\n",
    "print('Whole arr:')\n",
    "arr_sorted"
   ]
  },
  {
   "cell_type": "markdown",
   "metadata": {},
   "source": [
    "To visualize what just happened, iterate through the first 10 predictions (the highest probability ones) printing ligand smiles and predicted target chemblID:"
   ]
  },
  {
   "cell_type": "code",
   "execution_count": 10,
   "metadata": {},
   "outputs": [
    {
     "name": "stdout",
     "output_type": "stream",
     "text": [
      "Cc1cc(Nc2c... Vascular endothelial growth factor receptor 2 \t CHEMBL279\n",
      "Cc1cc(Nc2cc(N3CCN(C)CC3)nc(Sc3ccc(NC(=O)C4CC4)cc3)n2)n[nH]1\n",
      "CN=c1[nH]n... Serine/threonine-protein kinase PIM1 \t CHEMBL2147\n",
      "CN=c1[nH]nc(-c2ccc3[nH]cc(-c4cccc(F)n4)c3c2)s1\n",
      "Nc1ccc(-c2... Serine/threonine-protein kinase PIM1 \t CHEMBL2147\n",
      "Nc1ccc(-c2ccccn2)nc1C(=O)Nc1cnccc1N1CCC[C@H](N)C1\n",
      "Nc1cc(-c2c... Serine/threonine-protein kinase PIM1 \t CHEMBL2147\n",
      "Nc1cc(-c2ccncc2NC(=O)c2nc(-c3ccccc3F)ccc2N)ccn1\n",
      "CC(=O)O.O=... Serine/threonine-protein kinase PIM1 \t CHEMBL2147\n",
      "CC(=O)O.O=C(O)c1ccc2c3c1cccc3c(=O)n1c3ccccc3nc21\n",
      "O=C(Nc1c[n... Serine/threonine-protein kinase PIM1 \t CHEMBL2147\n",
      "O=C(Nc1c[nH]c2ncc(-c3c(F)cccc3F)cc12)c1cnn2ccc(NCC3CCNCC3)nc12\n",
      "COc1cncc(-... Serine/threonine-protein kinase PIM1 \t CHEMBL2147\n",
      "COc1cncc(-c2c[nH]c3ccc(-c4n[nH]c(=N)o4)nc23)c1\n",
      "Nc1ccc(-c2... Serine/threonine-protein kinase PIM1 \t CHEMBL2147\n",
      "Nc1ccc(-c2cccnc2)nc1C(=O)Nc1cnccc1N1CCC[C@H](N)C1\n",
      "Nc1ccc(-c2... Serine/threonine-protein kinase PIM1 \t CHEMBL2147\n",
      "Nc1ccc(-c2c[nH]c3ccc(-c4cncc(N5CCNCC5)n4)cc23)c(F)n1\n",
      "Nc1ccc(-c2... Serine/threonine-protein kinase PIM1 \t CHEMBL2147\n",
      "Nc1ccc(-c2c[nH]c3ccc(-c4cncc(O[C@H]5CC[C@H](N)CC5)n4)cc23)c(F)n1\n"
     ]
    }
   ],
   "source": [
    "for pair in arr_sorted[:10]:\n",
    "    smi = allSmiles[0].iloc[pair[0]]\n",
    "    predicted_target = targetNames[0].iloc[pair[1]]\n",
    "    tid = targetIDs[targetIDs[1]==predicted_target][0].iloc[0]\n",
    "    print(smi[:10]+'...', predicted_target, '\\t', tid)\n",
    "    print(smi)\n",
    "    "
   ]
  },
  {
   "cell_type": "markdown",
   "metadata": {},
   "source": [
    "# Define some functions to make things clearer\n",
    "\n",
    "These use the chembl web resource library to download synonym strings for the target, the pubchempy library to get Compound IDs, and the pubchem REST api to download assay data.\n",
    "\n"
   ]
  },
  {
   "cell_type": "code",
   "execution_count": 11,
   "metadata": {},
   "outputs": [],
   "source": [
    "def clean_text(input_string):\n",
    "    #source: https://stackoverflow.com/questions/34860982/replace-the-punctuation-with-whitespace\n",
    "    #replace these with whitespace:\n",
    "    clean_string = re.sub(r\"\"\"\n",
    "               [(),.;@#?!&$]+  # Accept one or more copies of punctuation\n",
    "               \\ *           # plus zero or more copies of a space,\n",
    "               \"\"\",\n",
    "               \" \",          # and replace it with a single space\n",
    "               input_string.lower(), flags=re.VERBOSE)\n",
    "    \n",
    "    #replace these with nothing:\n",
    "    clean_string = clean_string.replace('-', '')\n",
    "    clean_string = clean_string.replace('=', '')\n",
    "    return clean_string\n",
    "\n",
    "\n",
    "def get_synonyms(tid):\n",
    "    target = new_client.target\n",
    "    res = target.filter(target_chembl_id=tid)\n",
    "    target_synonyms = [i['component_synonym'] for i in res[0]['target_components'][0]['target_component_synonyms']]\n",
    "    #clean:\n",
    "    target_synonyms = [clean_text(i) for i in target_synonyms]\n",
    "    #make all lowercase to improve correct matchings:\n",
    "    #target_synonyms = [i.lower() for i in target_synonyms]\n",
    "    #remove all punctuations to improve correct matchings:\n",
    "    #target_synonyms = [i.translate(str.maketrans('', '', string.punctuation)) for i in target_synonyms]\n",
    "    \n",
    "    return target_synonyms\n",
    "\n",
    "def get_cid(smi):\n",
    "    try:\n",
    "        c = pcp.get_compounds(smi, 'smiles')[0]\n",
    "        return c.cid\n",
    "    except Exception as e:\n",
    "        print(e)\n",
    "        return None\n",
    "\n",
    "def get_assay_summary(cid):\n",
    "    b = json.loads(requests.get('https://pubchem.ncbi.nlm.nih.gov/rest/pug/compound/cid/'+str(cid)+'/assaysummary/JSON').content)\n",
    "    return b\n",
    "\n",
    "def get_relevant_aids(assay_summary, synonyms):\n",
    "    #iterates through all assays and checks for overlap in Assay Name with any of the synonyms. \n",
    "    #if there is a shared word, returns the pubchem assay ID. \n",
    "    #relevant_aids = list()\n",
    "    bioactivity_outcomes = list()\n",
    "    assay_names = list()\n",
    "    \n",
    "    for i in assay_summary['Table']['Row']:\n",
    "        assay_name = i['Cell'][11]\n",
    "        #trick from word embedding - remove all punctuations to improve word matching\n",
    "        #assay_name = assay_name.translate(str.maketrans('', '', string.punctuation))\n",
    "        clean_assay_name = clean_text(assay_name)\n",
    "        #now match words:\n",
    "        if len(set(synonyms).intersection(clean_assay_name.split()))>0:\n",
    "            \n",
    "            ###This is the variable that stores the 'active' or 'unspecified' or 'inactive' string:\n",
    "            bioactivity_outcome = i['Cell'][6]\n",
    "            ###\n",
    "            \n",
    "            bioactivity_outcomes.append(bioactivity_outcome)\n",
    "            assay_names.append(assay_name)\n",
    "            \n",
    "            #this stores the AID number\n",
    "            #relevant_aids.append(i['Cell'][0])\n",
    "\n",
    "    return bioactivity_outcomes, assay_names#relevant_aids\n",
    "\n",
    "def get_assay_details(aid, cid):\n",
    "    b = json.loads(requests.get('https://pubchem.ncbi.nlm.nih.gov/rest/pug/assay/aid/'+str(aid)+'/JSON?cid='+str(cid)).content)\n",
    "    return b\n",
    "\n",
    "            \n",
    "            "
   ]
  },
  {
   "cell_type": "markdown",
   "metadata": {},
   "source": [
    "# Iterate through predictions and record assay data\n",
    "\n",
    "This can take some time. For demonstration purposes this notebook only iterates through 50 ligands. "
   ]
  },
  {
   "cell_type": "code",
   "execution_count": 12,
   "metadata": {},
   "outputs": [
    {
     "data": {
      "application/vnd.jupyter.widget-view+json": {
       "model_id": "7b0739a8ab5b4113a82bed3985805df0",
       "version_major": 2,
       "version_minor": 0
      },
      "text/plain": [
       "HBox(children=(IntProgress(value=0, max=50), HTML(value='')))"
      ]
     },
     "metadata": {},
     "output_type": "display_data"
    },
    {
     "name": "stdout",
     "output_type": "stream",
     "text": [
      "22   22\n"
     ]
    }
   ],
   "source": [
    "assay_keeper = list()\n",
    "count = 0 \n",
    "synonym_dict = dict()\n",
    "cid_dict = dict()\n",
    "assay_dict = dict()\n",
    "\n",
    "for pair in tqdm_notebook(arr_sorted[:50]):\n",
    "    smi = allSmiles[0].iloc[pair[0]]\n",
    "    predicted_target = targetNames[0].iloc[pair[1]]\n",
    "    tid = targetIDs[targetIDs[1]==predicted_target][0].iloc[0]\n",
    "    \n",
    "    if tid in synonym_dict:\n",
    "        synonyms = synonym_dict[tid]\n",
    "    else:\n",
    "        synonyms = get_synonyms(tid)\n",
    "        synonym_dict[tid] = synonyms\n",
    "    \n",
    "\n",
    "    if smi in cid_dict:\n",
    "        compound_id = cid_dict[smi]\n",
    "    else:\n",
    "        compound_id = get_cid(smi)\n",
    "        cid_dict[smi] = compound_id\n",
    "        \n",
    "        \n",
    "    if compound_id in assay_dict:\n",
    "        assay_summary = assay_dict[compound_id]\n",
    "    else: \n",
    "        assay_summary = get_assay_summary(compound_id)\n",
    "        assay_dict[compound_id]=assay_summary\n",
    "    \n",
    "    if 'Fault' in assay_summary.keys():\n",
    "        None\n",
    "        #print('Fault! No assays present.')\n",
    "    else:\n",
    "        bioactivity_outcomes, assay_names = get_relevant_aids(assay_summary, synonyms)\n",
    "\n",
    "        df = pd.DataFrame(columns=['Outcome', 'AssayNames'])\n",
    "        df['Outcome'] = bioactivity_outcomes\n",
    "        df['AssayNames'] = assay_names\n",
    "        assay_keeper.append(df)\n",
    "    \n",
    "\n",
    "    \n",
    "    if 'Active' in df['Outcome'].tolist():\n",
    "        count+=1\n",
    "        print(count, ' ', len(assay_keeper), end='\\r')\n",
    "    "
   ]
  },
  {
   "cell_type": "markdown",
   "metadata": {},
   "source": [
    "Count up the active / inactive assays. Active evidence is when there is only 'active' results. Likewise Inactive is when there is only 'inactive' results. Ambiguous evidence is when there is both 'active' and 'inactive' assay results, meaning we can't say whether it is or is not active. "
   ]
  },
  {
   "cell_type": "code",
   "execution_count": 13,
   "metadata": {},
   "outputs": [],
   "source": [
    "both = 0\n",
    "neg = 0\n",
    "pos = 0\n",
    "positive_targs = list()\n",
    "both_targs = list()\n",
    "negative_targs= list()\n",
    "\n",
    "for count, item in enumerate(assay_keeper):\n",
    "    active = 'Active' in item['Outcome'].tolist()\n",
    "    inactive = 'Inactive' in item['Outcome'].tolist()\n",
    "    \n",
    "    if active and inactive:\n",
    "        both += 1\n",
    "        both_targs.append(count)\n",
    "    elif active:\n",
    "        pos += 1\n",
    "        positive_targs.append(count)\n",
    "    elif inactive:\n",
    "        neg += 1\n",
    "        negative_targs.append(count)"
   ]
  },
  {
   "cell_type": "markdown",
   "metadata": {},
   "source": [
    "Convenient plotting function (from jake van der plaas [textbook](https://jakevdp.github.io/PythonDataScienceHandbook/04.07-customizing-colorbars.html))"
   ]
  },
  {
   "cell_type": "code",
   "execution_count": 14,
   "metadata": {},
   "outputs": [
    {
     "data": {
      "image/png": "[encoded data removed]",
      "text/plain": [
       "<Figure size 864x216 with 1 Axes>"
      ]
     },
     "metadata": {
      "needs_background": "light"
     },
     "output_type": "display_data"
    }
   ],
   "source": [
    "##Use this to choose colours for the horizontal barplots\n",
    "from matplotlib import colors\n",
    "\n",
    "def view_colormap(cmap):\n",
    "    \"\"\"Plot a colormap\"\"\"\n",
    "    cmap = plt.cm.get_cmap(cmap)\n",
    "    colors = cmap(np.arange(cmap.N))\n",
    "    \n",
    "    \n",
    "    fig, ax = plt.subplots(1, figsize=(12, 3),\n",
    "                           subplot_kw=dict(xticks=range(len(colors)), yticks=[]))\n",
    "    ax.imshow([colors], extent=[0, len(colors), 0, 1])\n",
    "\n",
    "    \n",
    "view_colormap('tab20')"
   ]
  },
  {
   "cell_type": "code",
   "execution_count": 15,
   "metadata": {},
   "outputs": [],
   "source": [
    "def makeCmap(name, color_nums):\n",
    "    cmap = plt.get_cmap(name)\n",
    "    cmap2 = colors.ListedColormap([cmap.colors[i] for i in color_nums])\n",
    "    #bounds=[i for i in range(len(color_nums))]\n",
    "    #norm = colors.BoundaryNorm(bounds, cmap2.N)\n",
    "    \n",
    "    return cmap2#, norm"
   ]
  },
  {
   "cell_type": "markdown",
   "metadata": {},
   "source": [
    "# Plot number of assays found:\n",
    "\n",
    "Of the top 50 predictions, a bit less than half had any assay data at all:\n",
    "\n",
    "(see the main paper for the results of top 10,000)"
   ]
  },
  {
   "cell_type": "code",
   "execution_count": 21,
   "metadata": {},
   "outputs": [
    {
     "data": {
      "image/png": "[encoded data removed]",
      "text/plain": [
       "<Figure size 864x108 with 1 Axes>"
      ]
     },
     "metadata": {
      "needs_background": "light"
     },
     "output_type": "display_data"
    }
   ],
   "source": [
    "cmap = makeCmap('tab20', [0, 1])\n",
    "\n",
    "\n",
    "arr = np.zeros([50,1])\n",
    "arr[0:both+pos+neg] = 0\n",
    "arr[both+pos+neg:] = 1\n",
    "\n",
    "#cmap = plt.get_cmap('tab20')\n",
    "#cmap = plt.cm.get_cmap('Blues', 2)\n",
    "fig, ax = plt.subplots(1)\n",
    "fig.set_figheight(1.5)\n",
    "fig.set_figwidth(12)\n",
    "ax.xaxis.tick_top()\n",
    "ax.set_yticks([])\n",
    "\n",
    "ax.tick_params(axis=\"x\", labelsize=16)\n",
    "ax.imshow(arr.T, cmap=cmap, aspect='auto')\n",
    "plt.tight_layout()\n",
    "#fig.savefig('total_assays.png')"
   ]
  },
  {
   "cell_type": "code",
   "execution_count": 17,
   "metadata": {},
   "outputs": [
    {
     "data": {
      "image/png": "[encoded data removed]",
      "text/plain": [
       "<Figure size 864x216 with 1 Axes>"
      ]
     },
     "metadata": {
      "needs_background": "light"
     },
     "output_type": "display_data"
    }
   ],
   "source": [
    "view_colormap('Set2')"
   ]
  },
  {
   "cell_type": "code",
   "execution_count": 34,
   "metadata": {},
   "outputs": [
    {
     "data": {
      "text/plain": [
       "<matplotlib.image.AxesImage at 0x11ca13748>"
      ]
     },
     "execution_count": 34,
     "metadata": {},
     "output_type": "execute_result"
    },
    {
     "data": {
      "image/png": "[encoded data removed]",
      "text/plain": [
       "<Figure size 864x108 with 1 Axes>"
      ]
     },
     "metadata": {
      "needs_background": "light"
     },
     "output_type": "display_data"
    }
   ],
   "source": [
    "#Use this when you have active, inactive, and ambiguous evidence\n",
    "#cmap = makeCmap('Set2', [1,2,0])\n",
    "\n",
    "#Use this for the demo, where we only have active evidence (the \n",
    "#order gets messed up when there's only one type of result)\n",
    "cmap = makeCmap('Set2', [0,2,1])\n",
    "\n",
    "\n",
    "arr = np.zeros([pos+both+neg,1])\n",
    "arr[0:neg] = 0\n",
    "arr[neg:neg+both] = 1\n",
    "arr[neg+both:] = 2\n",
    "\n",
    "\n",
    "#cmap = plt.cm.get_cmap('Blues', 2)\n",
    "fig, ax = plt.subplots(1)\n",
    "fig.set_figheight(1.5)\n",
    "fig.set_figwidth(12)\n",
    "#ax.xaxis.tick_top()\n",
    "ax.set_yticks([])\n",
    "ax.tick_params(axis=\"x\", labelsize=16)\n",
    "plt.tight_layout()\n",
    "ax.imshow(arr.T, cmap=cmap, aspect='auto')\n",
    "\n",
    "#fig.savefig('assay_results.png')"
   ]
  },
  {
   "cell_type": "code",
   "execution_count": 46,
   "metadata": {},
   "outputs": [],
   "source": [
    "targs = list()\n",
    "\n",
    "for count, pair in enumerate(arr_sorted[:10000]):\n",
    "    predicted_target = targetNames[0].iloc[pair[1]]\n",
    "    targs.append(predicted_target)\n",
    "    \n",
    "pdf = pd.DataFrame(targs)\n",
    "\n",
    "a= pdf.iloc[positive_targs][0].value_counts()\n",
    "\n",
    "##Uncomment if you also want to graph which targets had negative or ambiguous evidence:\n",
    "##(not applicable in the demo where there is only positive evidence)\n",
    "#b= pdf.iloc[negative_targs][0].value_counts()\n",
    "#c= pdf.iloc[both_targs][0].value_counts()"
   ]
  },
  {
   "cell_type": "code",
   "execution_count": 40,
   "metadata": {},
   "outputs": [
    {
     "data": {
      "text/plain": [
       "array([[240710,    239],\n",
       "       [212925,    196],\n",
       "       [ 92753,    196],\n",
       "       ...,\n",
       "       [ 89775,    122],\n",
       "       [ 89775,    111],\n",
       "       [252408,    242]])"
      ]
     },
     "execution_count": 40,
     "metadata": {},
     "output_type": "execute_result"
    }
   ],
   "source": [
    "arr_sorted\n",
    "\n",
    "for pair in arr_sorted[:10]:\n",
    "    smi = allSmiles[0].iloc[pair[0]]\n",
    "    predicted_target = targetNames[0].iloc[pair[1]]\n",
    "    tid = targetIDs[targetIDs[1]==predicted_target][0].iloc[0]\n",
    "    print(smi[:10]+'...', predicted_target, '\\t', tid)\n",
    "    print(smi)\n",
    "    \n",
    "for count, item in enumerate(assay_keeper):\n",
    "    active = 'Active' in item['Outcome'].tolist()\n",
    "    inactive = 'Inactive' in item['Outcome'].tolist()\n",
    "    \n",
    "    if active and inactive:\n",
    "        both += 1\n",
    "        both_targs.append(count)\n",
    "    elif active:\n",
    "        pos += 1\n",
    "        positive_targs.append(count)\n",
    "    elif inactive:\n",
    "        neg += 1\n",
    "        negative_targs.append(count)"
   ]
  },
  {
   "cell_type": "code",
   "execution_count": 29,
   "metadata": {},
   "outputs": [
    {
     "name": "stdout",
     "output_type": "stream",
     "text": [
      "Num negative assays: 0\n",
      "0.0\n",
      "Num with ambiguous assay evidence: 0\n",
      "0.0\n",
      "Num with positive assay evidence: 22\n",
      "100.0\n"
     ]
    }
   ],
   "source": [
    "#Print out percentages of ambiguous evidence, negative evidence, and positive evidence\n",
    "tot = both+pos+neg\n",
    "print('Num negative assays:', neg)\n",
    "print(neg/tot*100)\n",
    "\n",
    "print('Num with ambiguous assay evidence:', both)\n",
    "print(both/tot*100)\n",
    "\n",
    "print('Num with positive assay evidence:', pos)\n",
    "print(pos/tot*(100))"
   ]
  },
  {
   "cell_type": "markdown",
   "metadata": {},
   "source": [
    "# Plot bar graph showing number of positive assays per target\n",
    "\n",
    "This looks a lot more impressive when there are larger numbers of predicted labels with some kind of evidence. See the main paper for the full figure."
   ]
  },
  {
   "cell_type": "code",
   "execution_count": 47,
   "metadata": {
    "scrolled": false
   },
   "outputs": [
    {
     "data": {
      "image/png": "[encoded data removed]",
      "text/plain": [
       "<Figure size 1080x432 with 1 Axes>"
      ]
     },
     "metadata": {
      "needs_background": "light"
     },
     "output_type": "display_data"
    }
   ],
   "source": [
    "plt.figure(figsize=(15, 6))\n",
    "count = 0\n",
    "for label, value in zip(a.index, a.values):\n",
    "    plt.bar(count, value, label=label, color=cmap.colors[1], alpha=0.7)\n",
    "    count+=1\n",
    "\n",
    "\n",
    "_ = plt.xticks(range(len(a)), list(a.index), rotation='60', ha='right')\n",
    "_ = plt.yticks([0,50,100,150, 200], fontsize=14)\n",
    "plt.tight_layout()\n",
    "#plt.savefig('assay_targets.png')"
   ]
  }
 ],
 "metadata": {
  "kernelspec": {
   "display_name": "Python 3",
   "language": "python",
   "name": "python3"
  },
  "language_info": {
   "codemirror_mode": {
    "name": "ipython",
    "version": 3
   },
   "file_extension": ".py",
   "mimetype": "text/x-python",
   "name": "python",
   "nbconvert_exporter": "python",
   "pygments_lexer": "ipython3",
   "version": "3.7.3"
  }
 },
 "nbformat": 4,
 "nbformat_minor": 2
}
